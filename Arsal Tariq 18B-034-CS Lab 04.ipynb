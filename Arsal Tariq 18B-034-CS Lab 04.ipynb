{
 "cells": [
  {
   "cell_type": "markdown",
   "metadata": {},
   "source": [
    "# Lab 04 "
   ]
  },
  {
   "cell_type": "code",
   "execution_count": 14,
   "metadata": {},
   "outputs": [
    {
     "name": "stdout",
     "output_type": "stream",
     "text": [
      "Computer Science Software Engineering\n",
      "315\n",
      "Computer Science Software Engineering\n",
      "316\n",
      "Computer Science Software Engineering\n"
     ]
    }
   ],
   "source": [
    "\n",
    "#Class for Computer Science Student\n",
    "\n",
    "class CSstudent:\n",
    "\n",
    "    #class Variable\n",
    "    trade = \"Computer Science Software Engineering\"\n",
    "    \n",
    "    #the init method or constructor\n",
    "    def __init__(self, roll):\n",
    "        \n",
    "        #instance variable\n",
    "        self.roll = roll\n",
    "        \n",
    "#objects of CSStudent class\n",
    "Faisal = CSstudent(315)\n",
    "Farhan = CSstudent(316)\n",
    "\n",
    "print(Faisal.trade)\n",
    "print(Faisal.roll)\n",
    "print(Farhan.trade)\n",
    "print(Farhan.roll)\n",
    "print(CSstudent.trade)\n"
   ]
  },
  {
   "cell_type": "code",
   "execution_count": 2,
   "metadata": {},
   "outputs": [
    {
     "name": "stdout",
     "output_type": "stream",
     "text": [
      "Gulistan e Johar\n"
     ]
    }
   ],
   "source": [
    "#Program 02\n",
    "\n",
    "#class for Computer Science Student\n",
    "\n",
    "class CSstudent:\n",
    "    \n",
    "    #class variable\n",
    "    trade1 = \"Computer Science\"\n",
    "    trade2 = \"Software Engineering\"\n",
    "    \n",
    "    #the init method or constructor\n",
    "    def __init__(self, roll):\n",
    "        \n",
    "        #instance variable\n",
    "        self.roll = roll\n",
    "        \n",
    "    #adds an instance variable\n",
    "    def setAddress(self, address):\n",
    "        \n",
    "        #instance variable\n",
    "        self.address = address\n",
    "    \n",
    "    def getAddress(self):\n",
    "        return self.address\n",
    "\n",
    "#objects of CSstudent class\n",
    "Faisal = CSstudent(315)\n",
    "Faisal.setAddress(\"Gulistan e Johar\")\n",
    "print(Faisal.getAddress())"
   ]
  },
  {
   "cell_type": "code",
   "execution_count": 3,
   "metadata": {
    "scrolled": true
   },
   "outputs": [
    {
     "name": "stdout",
     "output_type": "stream",
     "text": [
      "2\n",
      "7\n"
     ]
    },
    {
     "ename": "AttributeError",
     "evalue": "'MyClass' object has no attribute '__hiddenVariable'",
     "output_type": "error",
     "traceback": [
      "\u001b[1;31m---------------------------------------------------------------------------\u001b[0m",
      "\u001b[1;31mAttributeError\u001b[0m                            Traceback (most recent call last)",
      "\u001b[1;32m<ipython-input-3-c757167cf5a9>\u001b[0m in \u001b[0;36m<module>\u001b[1;34m()\u001b[0m\n\u001b[0;32m     17\u001b[0m \u001b[1;33m\u001b[0m\u001b[0m\n\u001b[0;32m     18\u001b[0m \u001b[1;31m#this line causes error\u001b[0m\u001b[1;33m\u001b[0m\u001b[1;33m\u001b[0m\u001b[0m\n\u001b[1;32m---> 19\u001b[1;33m \u001b[0mprint\u001b[0m\u001b[1;33m(\u001b[0m\u001b[0mmyObject\u001b[0m\u001b[1;33m.\u001b[0m\u001b[0m__hiddenVariable\u001b[0m\u001b[1;33m)\u001b[0m\u001b[1;33m\u001b[0m\u001b[0m\n\u001b[0m",
      "\u001b[1;31mAttributeError\u001b[0m: 'MyClass' object has no attribute '__hiddenVariable'"
     ]
    }
   ],
   "source": [
    "#Program 03:\n",
    "\n",
    "class MyClass:\n",
    "    \n",
    "    #Hidden member of MyClass\n",
    "    __hiddenVariable = 0\n",
    "    \n",
    "    #A member method that changes __hiddenVariable\n",
    "    def add(self, increment):\n",
    "        self.__hiddenVariable += increment\n",
    "        print(self.__hiddenVariable)\n",
    "\n",
    "#executing the code\n",
    "myObject = MyClass()\n",
    "myObject.add(2)\n",
    "myObject.add(5)\n",
    "\n",
    "#this line causes error\n",
    "print(myObject.__hiddenVariable)\n"
   ]
  },
  {
   "cell_type": "code",
   "execution_count": 12,
   "metadata": {},
   "outputs": [
    {
     "name": "stdout",
     "output_type": "stream",
     "text": [
      "10\n"
     ]
    }
   ],
   "source": [
    "#Program 4:\n",
    "\n",
    "#A python program to demonstrate that hidden \n",
    "#member can be accessed outside the class\n",
    "\n",
    "class MyClass:\n",
    "    \n",
    "    #Hidden member of Myclass \n",
    "    __hiddenVariable = 10\n",
    "    \n",
    "#executing code\n",
    "myObject= MyClass()\n",
    "print(myObject._MyClass__hiddenVariable)"
   ]
  },
  {
   "cell_type": "code",
   "execution_count": 7,
   "metadata": {},
   "outputs": [
    {
     "name": "stdout",
     "output_type": "stream",
     "text": [
      "Assalam o Alekum, my name is Syed Faisal Ali, my age is: 44. Now a days earning: 1234567, its really lovely to be a Research Scientist\n"
     ]
    }
   ],
   "source": [
    "#Program 05:\n",
    "\n",
    "class Person:\n",
    "    \n",
    "    def __init__(a, name, age, salary, profession):\n",
    "        a.name = name\n",
    "        a.age = age\n",
    "        a.salary = salary\n",
    "        a.profession = profession\n",
    "        \n",
    "    def mydetail(a):\n",
    "        print(\"Assalam o Alekum, my name is \" + a.name + \", my age is: \" + str(a.age) +\". Now a days earning: \"+ str(a.salary) + \", its really lovely to be a \" + a.profession )\n",
    "        \n",
    "person1 = Person(\"Syed Faisal Ali\", 44, 1234567, \"Research Scientist\")\n",
    "person1.mydetail()"
   ]
  },
  {
   "cell_type": "code",
   "execution_count": 11,
   "metadata": {},
   "outputs": [
    {
     "name": "stdout",
     "output_type": "stream",
     "text": [
      "Assalam o Alekum,  my name is Syed Faisal Ali, my age is : 42. Now a days earning :1234567, its really lovely to be a Research Scientist\n",
      "Need to modify the age and salary inside the class\n",
      "Assalam o Alekum,  my name is Syed Faisal Ali, my age is : 44. Now a days earning :7654321, its really lovely to be a Research Scientist\n"
     ]
    }
   ],
   "source": [
    "#Program 06:\n",
    "\n",
    "class Person:\n",
    "    \n",
    "    def __init__(a, name, age, salary, profession):\n",
    "        a.name = name\n",
    "        a.age = age\n",
    "        a.salary = salary\n",
    "        a.profession = profession\n",
    "        \n",
    "    def mydetail(a):\n",
    "        print(\"Assalam o Alekum,  my name is \" + a.name +\", my age is : \" + str(a.age) +\". Now a days earning :\"+ str(a.salary) + \", its really lovely to be a \" + a.profession )\n",
    "        \n",
    "person1 = Person(\"Syed Faisal Ali\", 42, 1234567, \"Research Scientist\")\n",
    "person1.mydetail()\n",
    "print(\"Need to modify the age and salary inside the class\")\n",
    "person1.age = 44\n",
    "person1.salary = 7654321\n",
    "person1.mydetail()\n"
   ]
  },
  {
   "cell_type": "code",
   "execution_count": 13,
   "metadata": {},
   "outputs": [
    {
     "name": "stdout",
     "output_type": "stream",
     "text": [
      "Calling child constructor\n",
      "Calling chid method\n",
      "calling parent method\n",
      "Parent attribute : 200\n"
     ]
    }
   ],
   "source": [
    "#Program 07:\n",
    "\n",
    "class Parent:\n",
    "    parentAttr = 100\n",
    "    def __init__(self):\n",
    "        print(\"calling parent constructor\")\n",
    "\n",
    "    def parentMethod(self):\n",
    "        print(\"calling parent method\")\n",
    "        \n",
    "    def setAttr(self, attr):\n",
    "        Parent.parentAttr = attr\n",
    "        \n",
    "    def getAttr(self):\n",
    "        print(\"Parent attribute :\", Parent.parentAttr)\n",
    "        \n",
    "class Child(Parent):\n",
    "    def __init__(self):\n",
    "        print(\"Calling child constructor\")\n",
    "        \n",
    "    def childMethod(self):\n",
    "        print(\"Calling chid method\")\n",
    "        \n",
    "c1 = Child()      \n",
    "c1.childMethod()\n",
    "c1.parentMethod()\n",
    "c1.setAttr(200)\n",
    "c1.getAttr()"
   ]
  },
  {
   "cell_type": "markdown",
   "metadata": {},
   "source": [
    "# Programming Exercises\n"
   ]
  },
  {
   "cell_type": "code",
   "execution_count": null,
   "metadata": {},
   "outputs": [],
   "source": [
    "#Task 02\n",
    "#Classes for shape\n",
    "\n"
   ]
  }
 ],
 "metadata": {
  "kernelspec": {
   "display_name": "Python 3",
   "language": "python",
   "name": "python3"
  },
  "language_info": {
   "codemirror_mode": {
    "name": "ipython",
    "version": 3
   },
   "file_extension": ".py",
   "mimetype": "text/x-python",
   "name": "python",
   "nbconvert_exporter": "python",
   "pygments_lexer": "ipython3",
   "version": "3.6.5"
  }
 },
 "nbformat": 4,
 "nbformat_minor": 2
}
